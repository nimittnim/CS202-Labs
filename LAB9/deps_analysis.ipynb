{
 "cells": [
  {
   "cell_type": "code",
   "execution_count": 32,
   "metadata": {},
   "outputs": [],
   "source": [
    "# Importing Required libraries\n",
    "import json\n",
    "import networkx as nx"
   ]
  },
  {
   "cell_type": "code",
   "execution_count": 37,
   "metadata": {},
   "outputs": [],
   "source": [
    "# building the directed graph for imports\n",
    "# using generated report\n",
    "\n",
    "with open(\"black/src/output.json\", \"r\") as f:\n",
    "    data = json.load(f)\n",
    "G = nx.DiGraph()\n",
    "\n",
    "for module, info in data.items():\n",
    "    if not \"black\" in module:\n",
    "        continue\n",
    "    G.add_node(module)\n",
    "    if not \"imports\" in info:\n",
    "        continue\n",
    "    for dep in info[\"imports\"]:\n",
    "        if not \"black\" in dep: # Not interested in external module imports\n",
    "            continue\n",
    "        G.add_edge(module, dep)"
   ]
  },
  {
   "cell_type": "code",
   "execution_count": 43,
   "metadata": {},
   "outputs": [
    {
     "name": "stdout",
     "output_type": "stream",
     "text": [
      "Highly Coupled Modules:\n",
      " - black (imported by 18 modules)\n",
      " - black.mode (imported by 11 modules)\n",
      " - black.nodes (imported by 9 modules)\n",
      " - black.output (imported by 7 modules)\n",
      " - black.report (imported by 4 modules)\n"
     ]
    }
   ],
   "source": [
    "# 1. identifying highly coupled modules\n",
    "def find_highly_coupled_modules(graph, top_n=5):\n",
    "    in_degrees = dict(graph.in_degree())\n",
    "    sorted_in_degrees = sorted(in_degrees.items(), key=lambda x: x[1], reverse=True)\n",
    "    return sorted_in_degrees[:top_n]\n",
    "\n",
    "print(\"Highly Coupled Modules:\")\n",
    "for mod, deg in find_highly_coupled_modules(G):\n",
    "    print(f\" - {mod} (imported by {deg} modules)\")\n"
   ]
  },
  {
   "cell_type": "code",
   "execution_count": 44,
   "metadata": {},
   "outputs": [
    {
     "name": "stdout",
     "output_type": "stream",
     "text": [
      "Modules that Import the Most Other Modules:\n",
      " - black (imports 15 modules)\n",
      " - black.linegen (imports 9 modules)\n",
      " - black.trans (imports 7 modules)\n",
      " - black.concurrency (imports 5 modules)\n",
      " - black.files (imports 5 modules)\n"
     ]
    }
   ],
   "source": [
    "# 1.b Identifying modules that import the highest number of other modules\n",
    "def find_modules_with_most_imports(graph, top_n=5):\n",
    "    out_degrees = dict(graph.out_degree())\n",
    "    sorted_out_degrees = sorted(out_degrees.items(), key=lambda x: x[1], reverse=True)\n",
    "    return sorted_out_degrees[:top_n]\n",
    "\n",
    "print(\"Modules that Import the Most Other Modules:\")\n",
    "for mod, deg in find_modules_with_most_imports(G):\n",
    "    print(f\" - {mod} (imports {deg} modules)\")\n"
   ]
  },
  {
   "cell_type": "code",
   "execution_count": 39,
   "metadata": {},
   "outputs": [
    {
     "name": "stdout",
     "output_type": "stream",
     "text": [
      "Cyclic Dependencies:\n",
      " - Cycle: black\n",
      " - Cycle: black.comments -> black.nodes -> black.strings -> black -> black.linegen -> black.trans\n",
      " - Cycle: black.comments -> black.nodes -> black.strings -> black -> black.linegen\n",
      " - Cycle: black.comments -> black.nodes -> black.strings -> black\n",
      " - Cycle: black.comments -> black.nodes -> black.mode -> black -> black.linegen -> black.trans\n",
      " - Cycle: black.comments -> black.nodes -> black.mode -> black -> black.linegen\n",
      " - Cycle: black.comments -> black.nodes -> black.mode -> black\n",
      " - Cycle: black.comments -> black.nodes -> black.cache -> black.mode -> black -> black.linegen -> black.trans\n",
      " - Cycle: black.comments -> black.nodes -> black.cache -> black.mode -> black -> black.linegen\n",
      " - Cycle: black.comments -> black.nodes -> black.cache -> black.mode -> black\n",
      " - Cycle: black.comments -> black.nodes -> black.cache -> black -> black.linegen -> black.trans\n",
      " - Cycle: black.comments -> black.nodes -> black.cache -> black -> black.linegen\n",
      " - Cycle: black.comments -> black.nodes -> black.cache -> black\n",
      " - Cycle: black.comments -> black.nodes -> black -> black.linegen -> black.trans\n",
      " - Cycle: black.comments -> black.nodes -> black -> black.linegen\n",
      " - Cycle: black.comments -> black.nodes -> black\n",
      " - Cycle: black.comments -> black.mode -> black -> black.linegen -> black.trans\n",
      " - Cycle: black.comments -> black.mode -> black -> black.linegen\n",
      " - Cycle: black.comments -> black.mode -> black\n",
      " - Cycle: black.comments -> black -> black.linegen -> black.trans\n",
      " - Cycle: black.comments -> black -> black.linegen\n",
      " - Cycle: black.comments -> black\n",
      " - Cycle: black.lines -> black.strings -> black\n",
      " - Cycle: black.lines -> black.strings -> black -> black.linegen -> black.trans\n",
      " - Cycle: black.lines -> black.strings -> black -> black.linegen\n",
      " - Cycle: black.lines -> black.nodes -> black.strings -> black\n",
      " - Cycle: black.lines -> black.nodes -> black.strings -> black -> black.linegen -> black.trans\n",
      " - Cycle: black.lines -> black.nodes -> black.strings -> black -> black.linegen\n",
      " - Cycle: black.lines -> black.nodes -> black.mode -> black\n",
      " - Cycle: black.lines -> black.nodes -> black.mode -> black -> black.linegen -> black.trans\n",
      " - Cycle: black.lines -> black.nodes -> black.mode -> black -> black.linegen\n",
      " - Cycle: black.lines -> black.nodes -> black.cache -> black.mode -> black\n",
      " - Cycle: black.lines -> black.nodes -> black.cache -> black.mode -> black -> black.linegen -> black.trans\n",
      " - Cycle: black.lines -> black.nodes -> black.cache -> black.mode -> black -> black.linegen\n",
      " - Cycle: black.lines -> black.nodes -> black.cache -> black\n",
      " - Cycle: black.lines -> black.nodes -> black.cache -> black -> black.linegen -> black.trans\n",
      " - Cycle: black.lines -> black.nodes -> black.cache -> black -> black.linegen\n",
      " - Cycle: black.lines -> black.nodes -> black\n",
      " - Cycle: black.lines -> black.nodes -> black -> black.linegen -> black.trans\n",
      " - Cycle: black.lines -> black.nodes -> black -> black.linegen\n",
      " - Cycle: black.lines -> black.mode -> black\n",
      " - Cycle: black.lines -> black.mode -> black -> black.linegen -> black.trans\n",
      " - Cycle: black.lines -> black.mode -> black -> black.linegen\n",
      " - Cycle: black.lines -> black.brackets -> black.nodes -> black.strings -> black\n",
      " - Cycle: black.lines -> black.brackets -> black.nodes -> black.strings -> black -> black.linegen -> black.trans\n",
      " - Cycle: black.lines -> black.brackets -> black.nodes -> black.strings -> black -> black.linegen\n",
      " - Cycle: black.lines -> black.brackets -> black.nodes -> black.mode -> black\n",
      " - Cycle: black.lines -> black.brackets -> black.nodes -> black.mode -> black -> black.linegen -> black.trans\n",
      " - Cycle: black.lines -> black.brackets -> black.nodes -> black.mode -> black -> black.linegen\n",
      " - Cycle: black.lines -> black.brackets -> black.nodes -> black.cache -> black.mode -> black\n",
      " - Cycle: black.lines -> black.brackets -> black.nodes -> black.cache -> black.mode -> black -> black.linegen -> black.trans\n",
      " - Cycle: black.lines -> black.brackets -> black.nodes -> black.cache -> black.mode -> black -> black.linegen\n",
      " - Cycle: black.lines -> black.brackets -> black.nodes -> black.cache -> black\n",
      " - Cycle: black.lines -> black.brackets -> black.nodes -> black.cache -> black -> black.linegen -> black.trans\n",
      " - Cycle: black.lines -> black.brackets -> black.nodes -> black.cache -> black -> black.linegen\n",
      " - Cycle: black.lines -> black.brackets -> black.nodes -> black\n",
      " - Cycle: black.lines -> black.brackets -> black.nodes -> black -> black.linegen -> black.trans\n",
      " - Cycle: black.lines -> black.brackets -> black.nodes -> black -> black.linegen\n",
      " - Cycle: black.lines -> black.brackets -> black\n",
      " - Cycle: black.lines -> black.brackets -> black -> black.linegen -> black.trans\n",
      " - Cycle: black.lines -> black.brackets -> black -> black.linegen\n",
      " - Cycle: black.lines -> black\n",
      " - Cycle: black.lines -> black -> black.linegen -> black.trans\n",
      " - Cycle: black.lines -> black -> black.linegen\n",
      " - Cycle: black.handle_ipynb_magics -> black.report -> black\n",
      " - Cycle: black.handle_ipynb_magics -> black.report -> black -> black.files\n",
      " - Cycle: black.handle_ipynb_magics -> black.mode -> black\n",
      " - Cycle: black.handle_ipynb_magics -> black.mode -> black -> black.files\n",
      " - Cycle: black.handle_ipynb_magics -> black\n",
      " - Cycle: black.handle_ipynb_magics -> black -> black.files\n",
      " - Cycle: black.cache -> black.mode -> black -> black.ranges -> black.nodes\n",
      " - Cycle: black.cache -> black.mode -> black -> black.parsing -> black.nodes\n",
      " - Cycle: black.cache -> black.mode -> black -> black.nodes\n",
      " - Cycle: black.cache -> black.mode -> black -> black.linegen -> black.trans -> black.nodes\n",
      " - Cycle: black.cache -> black.mode -> black -> black.linegen -> black.nodes\n",
      " - Cycle: black.cache -> black.mode -> black -> black.linegen -> black.brackets -> black.nodes\n",
      " - Cycle: black.cache -> black.mode -> black -> black.concurrency\n",
      " - Cycle: black.cache -> black.mode -> black\n",
      " - Cycle: black.cache -> black -> black.ranges -> black.nodes\n",
      " - Cycle: black.cache -> black -> black.parsing -> black.nodes\n",
      " - Cycle: black.cache -> black -> black.nodes\n",
      " - Cycle: black.cache -> black -> black.linegen -> black.trans -> black.nodes\n",
      " - Cycle: black.cache -> black -> black.linegen -> black.nodes\n",
      " - Cycle: black.cache -> black -> black.linegen -> black.brackets -> black.nodes\n",
      " - Cycle: black.cache -> black -> black.concurrency\n",
      " - Cycle: black.cache -> black\n",
      " - Cycle: black.mode -> black -> black.ranges -> black.nodes\n",
      " - Cycle: black.mode -> black -> black.parsing -> black.nodes\n",
      " - Cycle: black.mode -> black -> black.parsing\n",
      " - Cycle: black.mode -> black -> black.nodes\n",
      " - Cycle: black.mode -> black\n",
      " - Cycle: black.mode -> black -> black.linegen -> black.trans -> black.nodes\n",
      " - Cycle: black.mode -> black -> black.linegen -> black.trans\n",
      " - Cycle: black.mode -> black -> black.linegen -> black.nodes\n",
      " - Cycle: black.mode -> black -> black.linegen\n",
      " - Cycle: black.mode -> black -> black.linegen -> black.brackets -> black.nodes\n",
      " - Cycle: black.mode -> black -> black.files\n",
      " - Cycle: black.mode -> black -> black.concurrency\n",
      " - Cycle: black.report -> black\n",
      " - Cycle: black.report -> black -> black.files\n",
      " - Cycle: black.report -> black -> black.concurrency\n",
      " - Cycle: black.concurrency -> black\n",
      " - Cycle: black.nodes -> black.strings -> black -> black.ranges\n",
      " - Cycle: black.nodes -> black.strings -> black -> black.parsing\n",
      " - Cycle: black.nodes -> black.strings -> black\n",
      " - Cycle: black.nodes -> black.strings -> black -> black.linegen -> black.trans\n",
      " - Cycle: black.nodes -> black.strings -> black -> black.linegen\n",
      " - Cycle: black.nodes -> black.strings -> black -> black.linegen -> black.brackets\n",
      " - Cycle: black.nodes -> black -> black.ranges\n",
      " - Cycle: black.nodes -> black -> black.parsing\n",
      " - Cycle: black.nodes -> black\n",
      " - Cycle: black.nodes -> black -> black.linegen -> black.trans\n",
      " - Cycle: black.nodes -> black -> black.linegen\n",
      " - Cycle: black.nodes -> black -> black.linegen -> black.brackets\n",
      " - Cycle: black.ranges -> black\n",
      " - Cycle: black.files -> black\n",
      " - Cycle: black.brackets -> black -> black.linegen\n",
      " - Cycle: black.strings -> black -> black.linegen -> black.trans\n",
      " - Cycle: black.strings -> black -> black.linegen\n",
      " - Cycle: black -> black.parsing\n",
      " - Cycle: black -> black.linegen -> black.trans\n",
      " - Cycle: black -> black.linegen\n"
     ]
    }
   ],
   "source": [
    "# 2. Detect cyclic dependencies\n",
    "def detect_cycles(graph):\n",
    "    return list(nx.simple_cycles(graph))\n",
    "\n",
    "print(\"Cyclic Dependencies:\")\n",
    "cycles = detect_cycles(G)\n",
    "if not cycles:\n",
    "    print(\" - No cycles detected.\")\n",
    "else:\n",
    "    for c in cycles:\n",
    "        print(\" - Cycle:\", \" -> \".join(c))"
   ]
  },
  {
   "cell_type": "code",
   "execution_count": 40,
   "metadata": {},
   "outputs": [
    {
     "name": "stdout",
     "output_type": "stream",
     "text": [
      "Disconnected Modules:\n",
      " - black.resources\n",
      " - black.schema\n"
     ]
    }
   ],
   "source": [
    "\n",
    "# 3. Check for unused and disconnected modules\n",
    "def find_disconnected_modules(graph):\n",
    "    return [node for node in graph.nodes if graph.in_degree(node) == 0 and graph.out_degree(node) == 0]\n",
    "\n",
    "print(\"Disconnected Modules:\")\n",
    "for mod in find_disconnected_modules(G):\n",
    "    print(f\" - {mod}\")"
   ]
  },
  {
   "cell_type": "code",
   "execution_count": 50,
   "metadata": {},
   "outputs": [
    {
     "name": "stdout",
     "output_type": "stream",
     "text": [
      "Dependency Depth (Top 5):\n",
      "1 - black.files: depth 12\n",
      "2 - black.linegen: depth 12\n",
      "3 - black.concurrency: depth 11\n",
      "4 - black.handle_ipynb_magics: depth 11\n",
      "5 - black.debug: depth 11\n"
     ]
    }
   ],
   "source": [
    "# 4. Assess depth of dependencies\n",
    "def assess_dependency_depth(graph):\n",
    "    depth_map = {}\n",
    "    for node in graph.nodes:\n",
    "        try:\n",
    "            length = max(len(path) for target in graph.nodes if nx.has_path(graph, node, target) for path in nx.all_simple_paths(graph, node, target))\n",
    "        except ValueError:\n",
    "            length = 0\n",
    "        depth_map[node] = length\n",
    "    return sorted(depth_map.items(), key=lambda x: x[1], reverse=True)\n",
    "\n",
    "print(\"Dependency Depth (Top 5):\")\n",
    "i = 1\n",
    "for mod, depth in assess_dependency_depth(G)[:5]:\n",
    "    print(f\"{i} - {mod}: depth {depth}\")\n",
    "    i+=1"
   ]
  },
  {
   "cell_type": "code",
   "execution_count": 49,
   "metadata": {},
   "outputs": [
    {
     "name": "stdout",
     "output_type": "stream",
     "text": [
      "\n",
      "5. Impact of Changes in Core Module 'black.linegen':\n",
      "1 - black.lines\n",
      "2 - black.handle_ipynb_magics\n",
      "3 - black.cache\n",
      "4 - black.concurrency\n",
      "5 - black.mode\n",
      "6 - black.nodes\n",
      "7 - black.debug\n",
      "8 - black.ranges\n",
      "9 - black.files\n",
      "10 - black.brackets\n",
      "11 - black.parsing\n",
      "12 - black.report\n",
      "13 - black.strings\n",
      "14 - black.trans\n",
      "15 - black\n",
      "16 - black.__main__\n",
      "17 - black.comments\n"
     ]
    }
   ],
   "source": [
    "# 1. Dependency impact assessment\n",
    "def impact_of_module_change(graph, module):\n",
    "    if module not in graph:\n",
    "        return []\n",
    "    # Modules that depend on this module (reverse dependencies)\n",
    "    return list(nx.descendants(graph.reverse(copy=False), module))\n",
    "\n",
    "core_module = \"black.linegen\"  \n",
    "\n",
    "print(f\"\\n5. Impact of Changes in Core Module '{core_module}':\")\n",
    "i = 1\n",
    "for mod in impact_of_module_change(G, core_module):\n",
    "    print(f\"{i} - {mod}\")\n",
    "    i+=1"
   ]
  },
  {
   "cell_type": "code",
   "execution_count": 46,
   "metadata": {},
   "outputs": [
    {
     "name": "stdout",
     "output_type": "stream",
     "text": [
      "\n",
      "6. Modules That Put System at Risk if Modified (Top 5):\n",
      " - black.const (affects 18 modules)\n",
      " - black.output (affects 18 modules)\n",
      " - black._width_table (affects 18 modules)\n",
      " - black.numerics (affects 18 modules)\n",
      " - black.rusty (affects 18 modules)\n"
     ]
    }
   ],
   "source": [
    "# 2. Risk Assesssment\n",
    "def risk_assessment(graph):\n",
    "    # Modules that, if changed, affect many others\n",
    "    risk_scores = {mod: len(impact_of_module_change(graph, mod)) for mod in graph.nodes}\n",
    "    return sorted(risk_scores.items(), key=lambda x: x[1], reverse=True)\n",
    "\n",
    "print(\"\\n6. Modules That Put System at Risk if Modified (Top 5):\")\n",
    "for mod, score in risk_assessment(G)[:5]:\n",
    "    print(f\" - {mod} (affects {score} modules)\")"
   ]
  }
 ],
 "metadata": {
  "kernelspec": {
   "display_name": "Python 3",
   "language": "python",
   "name": "python3"
  },
  "language_info": {
   "codemirror_mode": {
    "name": "ipython",
    "version": 3
   },
   "file_extension": ".py",
   "mimetype": "text/x-python",
   "name": "python",
   "nbconvert_exporter": "python",
   "pygments_lexer": "ipython3",
   "version": "3.11.1 (v3.11.1:a7a450f84a, Dec  6 2022, 15:24:06) [Clang 13.0.0 (clang-1300.0.29.30)]"
  },
  "orig_nbformat": 4,
  "vscode": {
   "interpreter": {
    "hash": "aee8b7b246df8f9039afb4144a1f6fd8d2ca17a180786b69acc140d282b71a49"
   }
  }
 },
 "nbformat": 4,
 "nbformat_minor": 2
}
